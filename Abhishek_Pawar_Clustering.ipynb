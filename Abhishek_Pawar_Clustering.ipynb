{
  "nbformat": 4,
  "nbformat_minor": 0,
  "metadata": {
    "colab": {
      "provenance": []
    },
    "kernelspec": {
      "name": "python3",
      "display_name": "Python 3"
    },
    "language_info": {
      "name": "python"
    }
  },
  "cells": [
    {
      "cell_type": "code",
      "execution_count": null,
      "metadata": {
        "id": "LWlxXx7Qt4_w"
      },
      "outputs": [],
      "source": [
        "import pandas as pd\n",
        "import numpy as np\n",
        "import matplotlib.pyplot as plt\n",
        "import seaborn as sns"
      ]
    },
    {
      "cell_type": "code",
      "source": [
        "# Load Data\n",
        "customers = pd.read_csv(\"Customers.csv\")\n",
        "products = pd.read_csv(\"Products.csv\")\n",
        "transactions = pd.read_csv(\"Transactions.csv\")"
      ],
      "metadata": {
        "id": "XwToPNaLuAZI"
      },
      "execution_count": null,
      "outputs": []
    },
    {
      "cell_type": "code",
      "source": [
        "# Convert date columns to datetime\n",
        "customers['SignupDate'] = pd.to_datetime(customers['SignupDate'])\n",
        "transactions['TransactionDate'] = pd.to_datetime(transactions['TransactionDate'])"
      ],
      "metadata": {
        "id": "98P04uekuJzq"
      },
      "execution_count": null,
      "outputs": []
    },
    {
      "cell_type": "code",
      "source": [
        "# Merge datasets for analysis\n",
        "df = transactions.merge(customers, on=\"CustomerID\").merge(products, on=\"ProductID\")\n",
        "df.head()"
      ],
      "metadata": {
        "colab": {
          "base_uri": "https://localhost:8080/",
          "height": 293
        },
        "id": "7TDnXQi-uOOY",
        "outputId": "0d925df9-2bdc-4f49-c747-1730529201cb"
      },
      "execution_count": null,
      "outputs": [
        {
          "output_type": "execute_result",
          "data": {
            "text/plain": [
              "  TransactionID CustomerID ProductID     TransactionDate  Quantity  \\\n",
              "0        T00001      C0199      P067 2024-08-25 12:38:23         1   \n",
              "1        T00112      C0146      P067 2024-05-27 22:23:54         1   \n",
              "2        T00166      C0127      P067 2024-04-25 07:38:55         1   \n",
              "3        T00272      C0087      P067 2024-03-26 22:55:37         2   \n",
              "4        T00363      C0070      P067 2024-03-21 15:10:10         3   \n",
              "\n",
              "   TotalValue  Price_x     CustomerName         Region SignupDate  \\\n",
              "0      300.68   300.68   Andrea Jenkins         Europe 2022-12-03   \n",
              "1      300.68   300.68  Brittany Harvey           Asia 2024-09-04   \n",
              "2      300.68   300.68  Kathryn Stevens         Europe 2024-04-04   \n",
              "3      601.36   300.68  Travis Campbell  South America 2024-04-11   \n",
              "4      902.04   300.68    Timothy Perez         Europe 2022-03-15   \n",
              "\n",
              "                       ProductName     Category  Price_y  \n",
              "0  ComfortLiving Bluetooth Speaker  Electronics   300.68  \n",
              "1  ComfortLiving Bluetooth Speaker  Electronics   300.68  \n",
              "2  ComfortLiving Bluetooth Speaker  Electronics   300.68  \n",
              "3  ComfortLiving Bluetooth Speaker  Electronics   300.68  \n",
              "4  ComfortLiving Bluetooth Speaker  Electronics   300.68  "
            ],
            "text/html": [
              "\n",
              "  <div id=\"df-ba3b4ea6-cf46-408c-8e5a-c24eb71bbc27\" class=\"colab-df-container\">\n",
              "    <div>\n",
              "<style scoped>\n",
              "    .dataframe tbody tr th:only-of-type {\n",
              "        vertical-align: middle;\n",
              "    }\n",
              "\n",
              "    .dataframe tbody tr th {\n",
              "        vertical-align: top;\n",
              "    }\n",
              "\n",
              "    .dataframe thead th {\n",
              "        text-align: right;\n",
              "    }\n",
              "</style>\n",
              "<table border=\"1\" class=\"dataframe\">\n",
              "  <thead>\n",
              "    <tr style=\"text-align: right;\">\n",
              "      <th></th>\n",
              "      <th>TransactionID</th>\n",
              "      <th>CustomerID</th>\n",
              "      <th>ProductID</th>\n",
              "      <th>TransactionDate</th>\n",
              "      <th>Quantity</th>\n",
              "      <th>TotalValue</th>\n",
              "      <th>Price_x</th>\n",
              "      <th>CustomerName</th>\n",
              "      <th>Region</th>\n",
              "      <th>SignupDate</th>\n",
              "      <th>ProductName</th>\n",
              "      <th>Category</th>\n",
              "      <th>Price_y</th>\n",
              "    </tr>\n",
              "  </thead>\n",
              "  <tbody>\n",
              "    <tr>\n",
              "      <th>0</th>\n",
              "      <td>T00001</td>\n",
              "      <td>C0199</td>\n",
              "      <td>P067</td>\n",
              "      <td>2024-08-25 12:38:23</td>\n",
              "      <td>1</td>\n",
              "      <td>300.68</td>\n",
              "      <td>300.68</td>\n",
              "      <td>Andrea Jenkins</td>\n",
              "      <td>Europe</td>\n",
              "      <td>2022-12-03</td>\n",
              "      <td>ComfortLiving Bluetooth Speaker</td>\n",
              "      <td>Electronics</td>\n",
              "      <td>300.68</td>\n",
              "    </tr>\n",
              "    <tr>\n",
              "      <th>1</th>\n",
              "      <td>T00112</td>\n",
              "      <td>C0146</td>\n",
              "      <td>P067</td>\n",
              "      <td>2024-05-27 22:23:54</td>\n",
              "      <td>1</td>\n",
              "      <td>300.68</td>\n",
              "      <td>300.68</td>\n",
              "      <td>Brittany Harvey</td>\n",
              "      <td>Asia</td>\n",
              "      <td>2024-09-04</td>\n",
              "      <td>ComfortLiving Bluetooth Speaker</td>\n",
              "      <td>Electronics</td>\n",
              "      <td>300.68</td>\n",
              "    </tr>\n",
              "    <tr>\n",
              "      <th>2</th>\n",
              "      <td>T00166</td>\n",
              "      <td>C0127</td>\n",
              "      <td>P067</td>\n",
              "      <td>2024-04-25 07:38:55</td>\n",
              "      <td>1</td>\n",
              "      <td>300.68</td>\n",
              "      <td>300.68</td>\n",
              "      <td>Kathryn Stevens</td>\n",
              "      <td>Europe</td>\n",
              "      <td>2024-04-04</td>\n",
              "      <td>ComfortLiving Bluetooth Speaker</td>\n",
              "      <td>Electronics</td>\n",
              "      <td>300.68</td>\n",
              "    </tr>\n",
              "    <tr>\n",
              "      <th>3</th>\n",
              "      <td>T00272</td>\n",
              "      <td>C0087</td>\n",
              "      <td>P067</td>\n",
              "      <td>2024-03-26 22:55:37</td>\n",
              "      <td>2</td>\n",
              "      <td>601.36</td>\n",
              "      <td>300.68</td>\n",
              "      <td>Travis Campbell</td>\n",
              "      <td>South America</td>\n",
              "      <td>2024-04-11</td>\n",
              "      <td>ComfortLiving Bluetooth Speaker</td>\n",
              "      <td>Electronics</td>\n",
              "      <td>300.68</td>\n",
              "    </tr>\n",
              "    <tr>\n",
              "      <th>4</th>\n",
              "      <td>T00363</td>\n",
              "      <td>C0070</td>\n",
              "      <td>P067</td>\n",
              "      <td>2024-03-21 15:10:10</td>\n",
              "      <td>3</td>\n",
              "      <td>902.04</td>\n",
              "      <td>300.68</td>\n",
              "      <td>Timothy Perez</td>\n",
              "      <td>Europe</td>\n",
              "      <td>2022-03-15</td>\n",
              "      <td>ComfortLiving Bluetooth Speaker</td>\n",
              "      <td>Electronics</td>\n",
              "      <td>300.68</td>\n",
              "    </tr>\n",
              "  </tbody>\n",
              "</table>\n",
              "</div>\n",
              "    <div class=\"colab-df-buttons\">\n",
              "\n",
              "  <div class=\"colab-df-container\">\n",
              "    <button class=\"colab-df-convert\" onclick=\"convertToInteractive('df-ba3b4ea6-cf46-408c-8e5a-c24eb71bbc27')\"\n",
              "            title=\"Convert this dataframe to an interactive table.\"\n",
              "            style=\"display:none;\">\n",
              "\n",
              "  <svg xmlns=\"http://www.w3.org/2000/svg\" height=\"24px\" viewBox=\"0 -960 960 960\">\n",
              "    <path d=\"M120-120v-720h720v720H120Zm60-500h600v-160H180v160Zm220 220h160v-160H400v160Zm0 220h160v-160H400v160ZM180-400h160v-160H180v160Zm440 0h160v-160H620v160ZM180-180h160v-160H180v160Zm440 0h160v-160H620v160Z\"/>\n",
              "  </svg>\n",
              "    </button>\n",
              "\n",
              "  <style>\n",
              "    .colab-df-container {\n",
              "      display:flex;\n",
              "      gap: 12px;\n",
              "    }\n",
              "\n",
              "    .colab-df-convert {\n",
              "      background-color: #E8F0FE;\n",
              "      border: none;\n",
              "      border-radius: 50%;\n",
              "      cursor: pointer;\n",
              "      display: none;\n",
              "      fill: #1967D2;\n",
              "      height: 32px;\n",
              "      padding: 0 0 0 0;\n",
              "      width: 32px;\n",
              "    }\n",
              "\n",
              "    .colab-df-convert:hover {\n",
              "      background-color: #E2EBFA;\n",
              "      box-shadow: 0px 1px 2px rgba(60, 64, 67, 0.3), 0px 1px 3px 1px rgba(60, 64, 67, 0.15);\n",
              "      fill: #174EA6;\n",
              "    }\n",
              "\n",
              "    .colab-df-buttons div {\n",
              "      margin-bottom: 4px;\n",
              "    }\n",
              "\n",
              "    [theme=dark] .colab-df-convert {\n",
              "      background-color: #3B4455;\n",
              "      fill: #D2E3FC;\n",
              "    }\n",
              "\n",
              "    [theme=dark] .colab-df-convert:hover {\n",
              "      background-color: #434B5C;\n",
              "      box-shadow: 0px 1px 3px 1px rgba(0, 0, 0, 0.15);\n",
              "      filter: drop-shadow(0px 1px 2px rgba(0, 0, 0, 0.3));\n",
              "      fill: #FFFFFF;\n",
              "    }\n",
              "  </style>\n",
              "\n",
              "    <script>\n",
              "      const buttonEl =\n",
              "        document.querySelector('#df-ba3b4ea6-cf46-408c-8e5a-c24eb71bbc27 button.colab-df-convert');\n",
              "      buttonEl.style.display =\n",
              "        google.colab.kernel.accessAllowed ? 'block' : 'none';\n",
              "\n",
              "      async function convertToInteractive(key) {\n",
              "        const element = document.querySelector('#df-ba3b4ea6-cf46-408c-8e5a-c24eb71bbc27');\n",
              "        const dataTable =\n",
              "          await google.colab.kernel.invokeFunction('convertToInteractive',\n",
              "                                                    [key], {});\n",
              "        if (!dataTable) return;\n",
              "\n",
              "        const docLinkHtml = 'Like what you see? Visit the ' +\n",
              "          '<a target=\"_blank\" href=https://colab.research.google.com/notebooks/data_table.ipynb>data table notebook</a>'\n",
              "          + ' to learn more about interactive tables.';\n",
              "        element.innerHTML = '';\n",
              "        dataTable['output_type'] = 'display_data';\n",
              "        await google.colab.output.renderOutput(dataTable, element);\n",
              "        const docLink = document.createElement('div');\n",
              "        docLink.innerHTML = docLinkHtml;\n",
              "        element.appendChild(docLink);\n",
              "      }\n",
              "    </script>\n",
              "  </div>\n",
              "\n",
              "\n",
              "<div id=\"df-8b8868e3-fd61-4b2f-b153-b940834647e5\">\n",
              "  <button class=\"colab-df-quickchart\" onclick=\"quickchart('df-8b8868e3-fd61-4b2f-b153-b940834647e5')\"\n",
              "            title=\"Suggest charts\"\n",
              "            style=\"display:none;\">\n",
              "\n",
              "<svg xmlns=\"http://www.w3.org/2000/svg\" height=\"24px\"viewBox=\"0 0 24 24\"\n",
              "     width=\"24px\">\n",
              "    <g>\n",
              "        <path d=\"M19 3H5c-1.1 0-2 .9-2 2v14c0 1.1.9 2 2 2h14c1.1 0 2-.9 2-2V5c0-1.1-.9-2-2-2zM9 17H7v-7h2v7zm4 0h-2V7h2v10zm4 0h-2v-4h2v4z\"/>\n",
              "    </g>\n",
              "</svg>\n",
              "  </button>\n",
              "\n",
              "<style>\n",
              "  .colab-df-quickchart {\n",
              "      --bg-color: #E8F0FE;\n",
              "      --fill-color: #1967D2;\n",
              "      --hover-bg-color: #E2EBFA;\n",
              "      --hover-fill-color: #174EA6;\n",
              "      --disabled-fill-color: #AAA;\n",
              "      --disabled-bg-color: #DDD;\n",
              "  }\n",
              "\n",
              "  [theme=dark] .colab-df-quickchart {\n",
              "      --bg-color: #3B4455;\n",
              "      --fill-color: #D2E3FC;\n",
              "      --hover-bg-color: #434B5C;\n",
              "      --hover-fill-color: #FFFFFF;\n",
              "      --disabled-bg-color: #3B4455;\n",
              "      --disabled-fill-color: #666;\n",
              "  }\n",
              "\n",
              "  .colab-df-quickchart {\n",
              "    background-color: var(--bg-color);\n",
              "    border: none;\n",
              "    border-radius: 50%;\n",
              "    cursor: pointer;\n",
              "    display: none;\n",
              "    fill: var(--fill-color);\n",
              "    height: 32px;\n",
              "    padding: 0;\n",
              "    width: 32px;\n",
              "  }\n",
              "\n",
              "  .colab-df-quickchart:hover {\n",
              "    background-color: var(--hover-bg-color);\n",
              "    box-shadow: 0 1px 2px rgba(60, 64, 67, 0.3), 0 1px 3px 1px rgba(60, 64, 67, 0.15);\n",
              "    fill: var(--button-hover-fill-color);\n",
              "  }\n",
              "\n",
              "  .colab-df-quickchart-complete:disabled,\n",
              "  .colab-df-quickchart-complete:disabled:hover {\n",
              "    background-color: var(--disabled-bg-color);\n",
              "    fill: var(--disabled-fill-color);\n",
              "    box-shadow: none;\n",
              "  }\n",
              "\n",
              "  .colab-df-spinner {\n",
              "    border: 2px solid var(--fill-color);\n",
              "    border-color: transparent;\n",
              "    border-bottom-color: var(--fill-color);\n",
              "    animation:\n",
              "      spin 1s steps(1) infinite;\n",
              "  }\n",
              "\n",
              "  @keyframes spin {\n",
              "    0% {\n",
              "      border-color: transparent;\n",
              "      border-bottom-color: var(--fill-color);\n",
              "      border-left-color: var(--fill-color);\n",
              "    }\n",
              "    20% {\n",
              "      border-color: transparent;\n",
              "      border-left-color: var(--fill-color);\n",
              "      border-top-color: var(--fill-color);\n",
              "    }\n",
              "    30% {\n",
              "      border-color: transparent;\n",
              "      border-left-color: var(--fill-color);\n",
              "      border-top-color: var(--fill-color);\n",
              "      border-right-color: var(--fill-color);\n",
              "    }\n",
              "    40% {\n",
              "      border-color: transparent;\n",
              "      border-right-color: var(--fill-color);\n",
              "      border-top-color: var(--fill-color);\n",
              "    }\n",
              "    60% {\n",
              "      border-color: transparent;\n",
              "      border-right-color: var(--fill-color);\n",
              "    }\n",
              "    80% {\n",
              "      border-color: transparent;\n",
              "      border-right-color: var(--fill-color);\n",
              "      border-bottom-color: var(--fill-color);\n",
              "    }\n",
              "    90% {\n",
              "      border-color: transparent;\n",
              "      border-bottom-color: var(--fill-color);\n",
              "    }\n",
              "  }\n",
              "</style>\n",
              "\n",
              "  <script>\n",
              "    async function quickchart(key) {\n",
              "      const quickchartButtonEl =\n",
              "        document.querySelector('#' + key + ' button');\n",
              "      quickchartButtonEl.disabled = true;  // To prevent multiple clicks.\n",
              "      quickchartButtonEl.classList.add('colab-df-spinner');\n",
              "      try {\n",
              "        const charts = await google.colab.kernel.invokeFunction(\n",
              "            'suggestCharts', [key], {});\n",
              "      } catch (error) {\n",
              "        console.error('Error during call to suggestCharts:', error);\n",
              "      }\n",
              "      quickchartButtonEl.classList.remove('colab-df-spinner');\n",
              "      quickchartButtonEl.classList.add('colab-df-quickchart-complete');\n",
              "    }\n",
              "    (() => {\n",
              "      let quickchartButtonEl =\n",
              "        document.querySelector('#df-8b8868e3-fd61-4b2f-b153-b940834647e5 button');\n",
              "      quickchartButtonEl.style.display =\n",
              "        google.colab.kernel.accessAllowed ? 'block' : 'none';\n",
              "    })();\n",
              "  </script>\n",
              "</div>\n",
              "\n",
              "    </div>\n",
              "  </div>\n"
            ],
            "application/vnd.google.colaboratory.intrinsic+json": {
              "type": "dataframe",
              "variable_name": "df",
              "summary": "{\n  \"name\": \"df\",\n  \"rows\": 1000,\n  \"fields\": [\n    {\n      \"column\": \"TransactionID\",\n      \"properties\": {\n        \"dtype\": \"string\",\n        \"num_unique_values\": 1000,\n        \"samples\": [\n          \"T00677\",\n          \"T00790\",\n          \"T00907\"\n        ],\n        \"semantic_type\": \"\",\n        \"description\": \"\"\n      }\n    },\n    {\n      \"column\": \"CustomerID\",\n      \"properties\": {\n        \"dtype\": \"category\",\n        \"num_unique_values\": 199,\n        \"samples\": [\n          \"C0135\",\n          \"C0109\",\n          \"C0048\"\n        ],\n        \"semantic_type\": \"\",\n        \"description\": \"\"\n      }\n    },\n    {\n      \"column\": \"ProductID\",\n      \"properties\": {\n        \"dtype\": \"category\",\n        \"num_unique_values\": 100,\n        \"samples\": [\n          \"P082\",\n          \"P052\",\n          \"P035\"\n        ],\n        \"semantic_type\": \"\",\n        \"description\": \"\"\n      }\n    },\n    {\n      \"column\": \"TransactionDate\",\n      \"properties\": {\n        \"dtype\": \"date\",\n        \"min\": \"2023-12-30 15:29:12\",\n        \"max\": \"2024-12-28 11:00:00\",\n        \"num_unique_values\": 1000,\n        \"samples\": [\n          \"2024-03-05 23:39:40\",\n          \"2024-08-13 23:52:47\",\n          \"2024-02-15 17:18:56\"\n        ],\n        \"semantic_type\": \"\",\n        \"description\": \"\"\n      }\n    },\n    {\n      \"column\": \"Quantity\",\n      \"properties\": {\n        \"dtype\": \"number\",\n        \"std\": 1,\n        \"min\": 1,\n        \"max\": 4,\n        \"num_unique_values\": 4,\n        \"samples\": [\n          2,\n          4,\n          1\n        ],\n        \"semantic_type\": \"\",\n        \"description\": \"\"\n      }\n    },\n    {\n      \"column\": \"TotalValue\",\n      \"properties\": {\n        \"dtype\": \"number\",\n        \"std\": 493.14447754793144,\n        \"min\": 16.08,\n        \"max\": 1991.04,\n        \"num_unique_values\": 369,\n        \"samples\": [\n          1789.36,\n          681.78,\n          580.34\n        ],\n        \"semantic_type\": \"\",\n        \"description\": \"\"\n      }\n    },\n    {\n      \"column\": \"Price_x\",\n      \"properties\": {\n        \"dtype\": \"number\",\n        \"std\": 140.73638962578207,\n        \"min\": 16.08,\n        \"max\": 497.76,\n        \"num_unique_values\": 100,\n        \"samples\": [\n          55.99,\n          354.81,\n          30.59\n        ],\n        \"semantic_type\": \"\",\n        \"description\": \"\"\n      }\n    },\n    {\n      \"column\": \"CustomerName\",\n      \"properties\": {\n        \"dtype\": \"category\",\n        \"num_unique_values\": 199,\n        \"samples\": [\n          \"Toni Weaver\",\n          \"Abigail Jones\",\n          \"Matthew Park\"\n        ],\n        \"semantic_type\": \"\",\n        \"description\": \"\"\n      }\n    },\n    {\n      \"column\": \"Region\",\n      \"properties\": {\n        \"dtype\": \"category\",\n        \"num_unique_values\": 4,\n        \"samples\": [\n          \"Asia\",\n          \"North America\",\n          \"Europe\"\n        ],\n        \"semantic_type\": \"\",\n        \"description\": \"\"\n      }\n    },\n    {\n      \"column\": \"SignupDate\",\n      \"properties\": {\n        \"dtype\": \"date\",\n        \"min\": \"2022-01-22 00:00:00\",\n        \"max\": \"2024-12-28 00:00:00\",\n        \"num_unique_values\": 178,\n        \"samples\": [\n          \"2023-06-11 00:00:00\",\n          \"2023-09-27 00:00:00\",\n          \"2022-02-10 00:00:00\"\n        ],\n        \"semantic_type\": \"\",\n        \"description\": \"\"\n      }\n    },\n    {\n      \"column\": \"ProductName\",\n      \"properties\": {\n        \"dtype\": \"category\",\n        \"num_unique_values\": 66,\n        \"samples\": [\n          \"ActiveWear Jacket\",\n          \"BookWorld Bluetooth Speaker\",\n          \"ComfortLiving Bluetooth Speaker\"\n        ],\n        \"semantic_type\": \"\",\n        \"description\": \"\"\n      }\n    },\n    {\n      \"column\": \"Category\",\n      \"properties\": {\n        \"dtype\": \"category\",\n        \"num_unique_values\": 4,\n        \"samples\": [\n          \"Clothing\",\n          \"Home Decor\",\n          \"Electronics\"\n        ],\n        \"semantic_type\": \"\",\n        \"description\": \"\"\n      }\n    },\n    {\n      \"column\": \"Price_y\",\n      \"properties\": {\n        \"dtype\": \"number\",\n        \"std\": 140.73638962578207,\n        \"min\": 16.08,\n        \"max\": 497.76,\n        \"num_unique_values\": 100,\n        \"samples\": [\n          55.99,\n          354.81,\n          30.59\n        ],\n        \"semantic_type\": \"\",\n        \"description\": \"\"\n      }\n    }\n  ]\n}"
            }
          },
          "metadata": {},
          "execution_count": 55
        }
      ]
    },
    {
      "cell_type": "code",
      "source": [
        "from sklearn.cluster import KMeans\n",
        "from sklearn.metrics import davies_bouldin_score\n",
        "from sklearn.decomposition import PCA\n",
        "from sklearn.preprocessing import StandardScaler"
      ],
      "metadata": {
        "id": "50Vvt7yRuRyQ"
      },
      "execution_count": null,
      "outputs": []
    },
    {
      "cell_type": "code",
      "source": [
        "# Prepare Features for Clustering\n",
        "clustering_features = df.groupby('CustomerID').agg({\n",
        "    'TotalValue': 'sum',\n",
        "    'Quantity': 'sum',\n",
        "    'Price_x': 'mean'\n",
        "}).reset_index()"
      ],
      "metadata": {
        "id": "yRYKBUH-uUdC"
      },
      "execution_count": null,
      "outputs": []
    },
    {
      "cell_type": "code",
      "source": [
        "# Scaling Features\n",
        "scaler = StandardScaler()\n",
        "scaled_clustering_features = scaler.fit_transform(clustering_features[['TotalValue', 'Quantity', 'Price_x']])"
      ],
      "metadata": {
        "id": "NgbD8a72uXJi"
      },
      "execution_count": null,
      "outputs": []
    },
    {
      "cell_type": "code",
      "source": [
        "# Apply K-Means Clustering\n",
        "kmeans = KMeans(n_clusters=4, random_state=42)\n",
        "clusters = kmeans.fit_predict(scaled_clustering_features)"
      ],
      "metadata": {
        "id": "9vNTfxsJuaZ8"
      },
      "execution_count": null,
      "outputs": []
    },
    {
      "cell_type": "code",
      "source": [
        "# Assign Clusters\n",
        "clustering_features['Cluster'] = clusters"
      ],
      "metadata": {
        "id": "CdJcuwv6vKmI"
      },
      "execution_count": null,
      "outputs": []
    },
    {
      "cell_type": "code",
      "source": [
        "# Calculate DB Index\n",
        "db_index = davies_bouldin_score(scaled_clustering_features, clusters)\n",
        "print(\"Davies-Bouldin Index:\", db_index)"
      ],
      "metadata": {
        "colab": {
          "base_uri": "https://localhost:8080/"
        },
        "id": "Yzeb8K4UvMIm",
        "outputId": "96a60995-eba6-40e7-ee19-f79828882398"
      },
      "execution_count": null,
      "outputs": [
        {
          "output_type": "stream",
          "name": "stdout",
          "text": [
            "Davies-Bouldin Index: 1.12180191226693\n"
          ]
        }
      ]
    },
    {
      "cell_type": "code",
      "source": [
        "# Visualize Clusters with PCA\n",
        "pca = PCA(n_components=2)\n",
        "reduced_features = pca.fit_transform(scaled_clustering_features)\n",
        "plt.scatter(reduced_features[:, 0], reduced_features[:, 1], c=clusters, cmap='viridis', alpha=0.8)\n",
        "plt.title(\"Customer Clusters\")\n",
        "plt.xlabel(\"PCA Component 1\")\n",
        "plt.ylabel(\"PCA Component 2\")\n",
        "plt.show()"
      ],
      "metadata": {
        "colab": {
          "base_uri": "https://localhost:8080/",
          "height": 472
        },
        "id": "L8g9S8h_vSIG",
        "outputId": "41cbd1ea-3322-4ca8-c15e-7389b5fd54c9"
      },
      "execution_count": null,
      "outputs": [
        {
          "output_type": "display_data",
          "data": {
            "text/plain": [
              "<Figure size 640x480 with 1 Axes>"
            ],
            "image/png": "[encoded data removed]"
          },
          "metadata": {}
        }
      ]
    },
    {
      "cell_type": "code",
      "source": [
        "# Save Clustering Results\n",
        "clustering_features.to_csv(\"Customer_Clusters.csv\", index=False)"
      ],
      "metadata": {
        "id": "jh0fzefrvUEX"
      },
      "execution_count": null,
      "outputs": []
    },
    {
      "cell_type": "code",
      "source": [],
      "metadata": {
        "id": "ibJqXebpvVl-"
      },
      "execution_count": null,
      "outputs": []
    }
  ]
}